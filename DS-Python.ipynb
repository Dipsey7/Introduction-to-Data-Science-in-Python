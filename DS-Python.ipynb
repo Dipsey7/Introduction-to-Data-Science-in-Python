{
 "cells": [
  {
   "cell_type": "code",
   "execution_count": 126,
   "metadata": {},
   "outputs": [
    {
     "name": "stdout",
     "output_type": "stream",
     "text": [
      "['Dr. Christopher Brooks', 'Dr. Kevyn Collins-Thompson', 'Dr. VG Vinod Vydiswaran', 'Dr. Daniel Romero']\n",
      "Dr. Christopher Brooks\n",
      "['Dr.', 'Christopher', 'Brooks']\n"
     ]
    },
    {
     "data": {
      "text/plain": [
       "['Dr', ' Christopher Brooks']"
      ]
     },
     "execution_count": 126,
     "metadata": {},
     "output_type": "execute_result"
    }
   ],
   "source": [
    "people = ['Dr. Christopher Brooks', 'Dr. Kevyn Collins-Thompson', 'Dr. VG Vinod Vydiswaran', 'Dr. Daniel Romero']\n",
    "\n",
    "# def split_title_and_name(person):\n",
    "#     title = person.split()[0]\n",
    "#     lastname = person.split()[-1]\n",
    "#     return '{} {}'.format(title, lastname)\n",
    "\n",
    "# list(map(split_title_and_name, people))\n",
    "\n",
    "print(people)\n",
    "print(people[0])\n",
    "print(people[0].split())\n",
    "people[0].split('.')\n"
   ]
  },
  {
   "cell_type": "code",
   "execution_count": 37,
   "metadata": {},
   "outputs": [
    {
     "name": "stdout",
     "output_type": "stream",
     "text": [
      "my_list is [0, 2, 4, 6, 8, 10, 12, 14, 16, 18, 20, 22, 24, 26, 28, 30, 32, 34, 36, 38, 40, 42, 44, 46, 48]\n",
      "my_list 2 is [0, 2, 4, 6, 8, 10, 12, 14, 16, 18]\n"
     ]
    }
   ],
   "source": [
    "my_function = lambda x,y,z: x*y\n",
    "my_function(2,4,6)\n",
    "\n",
    "my_list1=[] #list of even numbers\n",
    "for i in range(50):\n",
    "    if i%2 == 0:\n",
    "        my_list1.append(i)\n",
    "print('my_list is {}'.format(my_list1))\n",
    "\n",
    "my_list2 =[number for number in range(20) if number%2==0] #list comprehension technique\n",
    "print('my_list 2 is {}'.format(my_list2))"
   ]
  },
  {
   "cell_type": "code",
   "execution_count": 8,
   "metadata": {},
   "outputs": [
    {
     "data": {
      "text/plain": [
       "'float64'"
      ]
     },
     "execution_count": 8,
     "metadata": {},
     "output_type": "execute_result"
    }
   ],
   "source": [
    "import numpy as np\n",
    "import math\n",
    "a = np.array([1,2,3])\n",
    "a.ndim\n",
    "a.size\n",
    "a.shape\n",
    "b = np.array([[2,3,4.3]]) #double brackets makes the shape 2-dimensional\n",
    "b.shape\n",
    "b.ndim\n",
    "type(b)\n",
    "b.dtype\n",
    "b.dtype.name\n"
   ]
  },
  {
   "cell_type": "code",
   "execution_count": 4,
   "metadata": {},
   "outputs": [
    {
     "data": {
      "text/plain": [
       "0    1.0\n",
       "1    2.0\n",
       "2    3.0\n",
       "3    NaN\n",
       "dtype: float64"
      ]
     },
     "execution_count": 4,
     "metadata": {},
     "output_type": "execute_result"
    }
   ],
   "source": [
    "import pandas as pd\n",
    "students = ['Alice','Tom','Daniel',None]\n",
    "pd.Series(students)\n",
    "numbers = [1,2,3,None]\n",
    "pd.Series(numbers)\n"
   ]
  },
  {
   "cell_type": "markdown",
   "metadata": {},
   "source": [
    "### Pandas DataFrame"
   ]
  },
  {
   "cell_type": "code",
   "execution_count": 1,
   "metadata": {},
   "outputs": [
    {
     "data": {
      "text/html": [
       "<div>\n",
       "<style scoped>\n",
       "    .dataframe tbody tr th:only-of-type {\n",
       "        vertical-align: middle;\n",
       "    }\n",
       "\n",
       "    .dataframe tbody tr th {\n",
       "        vertical-align: top;\n",
       "    }\n",
       "\n",
       "    .dataframe thead th {\n",
       "        text-align: right;\n",
       "    }\n",
       "</style>\n",
       "<table border=\"1\" class=\"dataframe\">\n",
       "  <thead>\n",
       "    <tr style=\"text-align: right;\">\n",
       "      <th></th>\n",
       "      <th>non-subscribed</th>\n",
       "      <th>subscribed</th>\n",
       "    </tr>\n",
       "    <tr>\n",
       "      <th>Date</th>\n",
       "      <th></th>\n",
       "      <th></th>\n",
       "    </tr>\n",
       "  </thead>\n",
       "  <tbody>\n",
       "    <tr>\n",
       "      <th>2021-01-01</th>\n",
       "      <td>651.0</td>\n",
       "      <td>1140.0</td>\n",
       "    </tr>\n",
       "    <tr>\n",
       "      <th>2021-01-02</th>\n",
       "      <td>NaN</td>\n",
       "      <td>6973.0</td>\n",
       "    </tr>\n",
       "    <tr>\n",
       "      <th>2021-01-03</th>\n",
       "      <td>766.0</td>\n",
       "      <td>1090.0</td>\n",
       "    </tr>\n",
       "    <tr>\n",
       "      <th>2021-01-04</th>\n",
       "      <td>857.0</td>\n",
       "      <td>5315.0</td>\n",
       "    </tr>\n",
       "    <tr>\n",
       "      <th>2021-01-05</th>\n",
       "      <td>594.0</td>\n",
       "      <td>1930.0</td>\n",
       "    </tr>\n",
       "  </tbody>\n",
       "</table>\n",
       "</div>"
      ],
      "text/plain": [
       "            non-subscribed  subscribed\n",
       "Date                                  \n",
       "2021-01-01           651.0      1140.0\n",
       "2021-01-02             NaN      6973.0\n",
       "2021-01-03           766.0      1090.0\n",
       "2021-01-04           857.0      5315.0\n",
       "2021-01-05           594.0      1930.0"
      ]
     },
     "execution_count": 1,
     "metadata": {},
     "output_type": "execute_result"
    }
   ],
   "source": [
    "import pandas as pd\n",
    "df = pd.read_csv(\"TimeSeriesExample.csv\",index_col = 'Date',parse_dates = ['Date'])\n",
    "df.columns = [x.lower().strip() for x in df.columns]\n",
    "df_mask = df['non-subscribed'] >= 500\n",
    "df_mask\n",
    "df.where(df_mask)   #df.where(df_mask).head()\n",
    "df.where(df_mask).dropna()\n",
    "df[df['non-subscribed'] >= 500]\n",
    "(df['non-subscribed'] >= 500) & (df['subscribed'] >= 5000)\n",
    "(df['non-subscribed'] >= 300) & (df['non-subscribed'] <= 500) #needs a parenthesis else see below\n",
    "df['non-subscribed'].gt(300) & df['non-subscribed'].lt(500)  #needs NO parenthesis\n",
    "#df['non-subscribed'].gt(300).lt(500) #this doesn't work here as above for some reasons\n",
    "df.head()"
   ]
  },
  {
   "cell_type": "markdown",
   "metadata": {},
   "source": [
    "### Pandas Indexing"
   ]
  },
  {
   "cell_type": "code",
   "execution_count": 65,
   "metadata": {},
   "outputs": [
    {
     "data": {
      "text/html": [
       "<div>\n",
       "<style scoped>\n",
       "    .dataframe tbody tr th:only-of-type {\n",
       "        vertical-align: middle;\n",
       "    }\n",
       "\n",
       "    .dataframe tbody tr th {\n",
       "        vertical-align: top;\n",
       "    }\n",
       "\n",
       "    .dataframe thead th {\n",
       "        text-align: right;\n",
       "    }\n",
       "</style>\n",
       "<table border=\"1\" class=\"dataframe\">\n",
       "  <thead>\n",
       "    <tr style=\"text-align: right;\">\n",
       "      <th></th>\n",
       "      <th>non-subscribed</th>\n",
       "      <th>Date</th>\n",
       "    </tr>\n",
       "  </thead>\n",
       "  <tbody>\n",
       "    <tr>\n",
       "      <th>0</th>\n",
       "      <td>651.0</td>\n",
       "      <td>2021-01-01</td>\n",
       "    </tr>\n",
       "    <tr>\n",
       "      <th>1</th>\n",
       "      <td>NaN</td>\n",
       "      <td>2021-01-02</td>\n",
       "    </tr>\n",
       "    <tr>\n",
       "      <th>2</th>\n",
       "      <td>766.0</td>\n",
       "      <td>2021-01-03</td>\n",
       "    </tr>\n",
       "    <tr>\n",
       "      <th>3</th>\n",
       "      <td>857.0</td>\n",
       "      <td>2021-01-04</td>\n",
       "    </tr>\n",
       "    <tr>\n",
       "      <th>4</th>\n",
       "      <td>594.0</td>\n",
       "      <td>2021-01-05</td>\n",
       "    </tr>\n",
       "  </tbody>\n",
       "</table>\n",
       "</div>"
      ],
      "text/plain": [
       "   non-subscribed       Date\n",
       "0           651.0 2021-01-01\n",
       "1             NaN 2021-01-02\n",
       "2           766.0 2021-01-03\n",
       "3           857.0 2021-01-04\n",
       "4           594.0 2021-01-05"
      ]
     },
     "execution_count": 65,
     "metadata": {},
     "output_type": "execute_result"
    }
   ],
   "source": [
    "df = pd.read_csv(\"TimeSeriesExample.csv\",index_col = 'Date',parse_dates = ['Date'])\n",
    "df.columns = [x.lower().strip() for x in df.columns]\n",
    "df['Date'] = df.index #copy the index data into its own column\n",
    "df.set_index('non-subscribed',inplace=True) #then set index to the other column.remember to put 'inplace = True' to work\n",
    "df.reset_index(inplace=True)  #to reset index to default column.remember to put 'inplace = True' to work\n",
    "df.head()\n",
    "#df['non-subscribed'].unique()  #for unique values\n",
    "columns_to_keep = ['non-subscribed','Date'] #to create a DF with sub-columns\n",
    "df[columns_to_keep].head()\n"
   ]
  },
  {
   "cell_type": "markdown",
   "metadata": {},
   "source": [
    "### Null Values"
   ]
  },
  {
   "cell_type": "code",
   "execution_count": 79,
   "metadata": {},
   "outputs": [
    {
     "data": {
      "text/html": [
       "<div>\n",
       "<style scoped>\n",
       "    .dataframe tbody tr th:only-of-type {\n",
       "        vertical-align: middle;\n",
       "    }\n",
       "\n",
       "    .dataframe tbody tr th {\n",
       "        vertical-align: top;\n",
       "    }\n",
       "\n",
       "    .dataframe thead th {\n",
       "        text-align: right;\n",
       "    }\n",
       "</style>\n",
       "<table border=\"1\" class=\"dataframe\">\n",
       "  <thead>\n",
       "    <tr style=\"text-align: right;\">\n",
       "      <th></th>\n",
       "      <th>non-subscribed</th>\n",
       "      <th>subscribed</th>\n",
       "    </tr>\n",
       "    <tr>\n",
       "      <th>Date</th>\n",
       "      <th></th>\n",
       "      <th></th>\n",
       "    </tr>\n",
       "  </thead>\n",
       "  <tbody>\n",
       "    <tr>\n",
       "      <th>2021-01-01</th>\n",
       "      <td>651.0</td>\n",
       "      <td>1140.0</td>\n",
       "    </tr>\n",
       "    <tr>\n",
       "      <th>2021-01-02</th>\n",
       "      <td>766.0</td>\n",
       "      <td>6973.0</td>\n",
       "    </tr>\n",
       "    <tr>\n",
       "      <th>2021-01-03</th>\n",
       "      <td>766.0</td>\n",
       "      <td>1090.0</td>\n",
       "    </tr>\n",
       "    <tr>\n",
       "      <th>2021-01-04</th>\n",
       "      <td>857.0</td>\n",
       "      <td>5315.0</td>\n",
       "    </tr>\n",
       "    <tr>\n",
       "      <th>2021-01-05</th>\n",
       "      <td>594.0</td>\n",
       "      <td>1930.0</td>\n",
       "    </tr>\n",
       "  </tbody>\n",
       "</table>\n",
       "</div>"
      ],
      "text/plain": [
       "            non-subscribed  subscribed\n",
       "Date                                  \n",
       "2021-01-01           651.0      1140.0\n",
       "2021-01-02           766.0      6973.0\n",
       "2021-01-03           766.0      1090.0\n",
       "2021-01-04           857.0      5315.0\n",
       "2021-01-05           594.0      1930.0"
      ]
     },
     "execution_count": 79,
     "metadata": {},
     "output_type": "execute_result"
    }
   ],
   "source": [
    "df = pd.read_csv(\"TimeSeriesExample.csv\",index_col = 'Date',parse_dates = ['Date'])\n",
    "df.columns = [x.lower().strip() for x in df.columns]\n",
    "mask = df.isnull()\n",
    "mask\n",
    "df.dropna()\n",
    "#df.fillna(0,inplace=True) #This fill all NAN with 0, and does NOT return a copy but modifies it\n",
    "df = df.fillna(method = 'bfill') #method could be ffill too for forward filling\n",
    "df.head()"
   ]
  },
  {
   "cell_type": "code",
   "execution_count": 89,
   "metadata": {},
   "outputs": [
    {
     "data": {
      "text/html": [
       "<div>\n",
       "<style scoped>\n",
       "    .dataframe tbody tr th:only-of-type {\n",
       "        vertical-align: middle;\n",
       "    }\n",
       "\n",
       "    .dataframe tbody tr th {\n",
       "        vertical-align: top;\n",
       "    }\n",
       "\n",
       "    .dataframe thead th {\n",
       "        text-align: right;\n",
       "    }\n",
       "</style>\n",
       "<table border=\"1\" class=\"dataframe\">\n",
       "  <thead>\n",
       "    <tr style=\"text-align: right;\">\n",
       "      <th></th>\n",
       "      <th>A</th>\n",
       "      <th>B</th>\n",
       "      <th>C</th>\n",
       "      <th>Name</th>\n",
       "      <th>first</th>\n",
       "      <th>last</th>\n",
       "    </tr>\n",
       "  </thead>\n",
       "  <tbody>\n",
       "    <tr>\n",
       "      <th>0</th>\n",
       "      <td>1</td>\n",
       "      <td>3</td>\n",
       "      <td>a</td>\n",
       "      <td>John Smith</td>\n",
       "      <td>John</td>\n",
       "      <td>Smith</td>\n",
       "    </tr>\n",
       "    <tr>\n",
       "      <th>1</th>\n",
       "      <td>1</td>\n",
       "      <td>4</td>\n",
       "      <td>d</td>\n",
       "      <td>George Washington</td>\n",
       "      <td>George</td>\n",
       "      <td>Washington</td>\n",
       "    </tr>\n",
       "    <tr>\n",
       "      <th>2</th>\n",
       "      <td>2</td>\n",
       "      <td>5</td>\n",
       "      <td>g</td>\n",
       "      <td>James Dough</td>\n",
       "      <td>James</td>\n",
       "      <td>Dough</td>\n",
       "    </tr>\n",
       "    <tr>\n",
       "      <th>3</th>\n",
       "      <td>3</td>\n",
       "      <td>6</td>\n",
       "      <td>j</td>\n",
       "      <td>David Platt</td>\n",
       "      <td>David</td>\n",
       "      <td>Platt</td>\n",
       "    </tr>\n",
       "    <tr>\n",
       "      <th>4</th>\n",
       "      <td>4</td>\n",
       "      <td>9</td>\n",
       "      <td>u</td>\n",
       "      <td>Edward Cole</td>\n",
       "      <td>Edward</td>\n",
       "      <td>Cole</td>\n",
       "    </tr>\n",
       "  </tbody>\n",
       "</table>\n",
       "</div>"
      ],
      "text/plain": [
       "   A  B  C               Name   first        last\n",
       "0  1  3  a         John Smith    John       Smith\n",
       "1  1  4  d  George Washington  George  Washington\n",
       "2  2  5  g        James Dough   James       Dough\n",
       "3  3  6  j        David Platt   David       Platt\n",
       "4  4  9  u        Edward Cole  Edward        Cole"
      ]
     },
     "execution_count": 89,
     "metadata": {},
     "output_type": "execute_result"
    }
   ],
   "source": [
    "df = pd.DataFrame({'A':[1,1,2,3,4],'B':[3,4,5,6,9],'C':['a','d','g','j','u'],\n",
    "                   'Name':['John Smith','George Washington','James Dough','David Platt','Edward Cole']})\n",
    "# df.replace(1,100) #to replace a single value\n",
    "# df.replace([1,9],[100,900]) #to replace multiple values.Regex replace can be done too\n",
    "df\n",
    "# Using the apply function to split a column by space\n",
    "\n",
    "def splitname(row):\n",
    "    row['first'] = row['Name'].split()[0]\n",
    "    row['last'] = row['Name'].split()[1]\n",
    "    return row\n",
    "\n",
    "df.apply(splitname,axis='columns')"
   ]
  },
  {
   "cell_type": "code",
   "execution_count": 41,
   "metadata": {},
   "outputs": [
    {
     "data": {
      "text/plain": [
       "False"
      ]
     },
     "execution_count": 41,
     "metadata": {},
     "output_type": "execute_result"
    }
   ],
   "source": [
    "sdata = {'Ohio': 35000, 'Texas': 71000, 'Oregon': 16000, 'Utah': 5000}\n",
    "obj1 = pd.Series(sdata)\n",
    "states = ['California', 'Ohio', 'Oregon', 'Texas']\n",
    "obj2 = pd.Series(sdata, index=states)\n",
    "obj3 = pd.isnull(obj2)\n",
    "obj2['California'] == None\n",
    "#Nan == Nan"
   ]
  },
  {
   "cell_type": "code",
   "execution_count": 4,
   "metadata": {},
   "outputs": [
    {
     "name": "stdout",
     "output_type": "stream",
     "text": [
      "            School\n",
      "Name              \n",
      "James     Business\n",
      "Sally  Engineering\n",
      "Mike           Law\n",
      "                 Role\n",
      "Name                 \n",
      "Sally  Director of HR\n",
      "Kelly          Grader\n",
      "James       Registrar\n"
     ]
    },
    {
     "data": {
      "text/html": [
       "<div>\n",
       "<style scoped>\n",
       "    .dataframe tbody tr th:only-of-type {\n",
       "        vertical-align: middle;\n",
       "    }\n",
       "\n",
       "    .dataframe tbody tr th {\n",
       "        vertical-align: top;\n",
       "    }\n",
       "\n",
       "    .dataframe thead th {\n",
       "        text-align: right;\n",
       "    }\n",
       "</style>\n",
       "<table border=\"1\" class=\"dataframe\">\n",
       "  <thead>\n",
       "    <tr style=\"text-align: right;\">\n",
       "      <th></th>\n",
       "      <th>Role</th>\n",
       "      <th>School</th>\n",
       "    </tr>\n",
       "    <tr>\n",
       "      <th>Name</th>\n",
       "      <th></th>\n",
       "      <th></th>\n",
       "    </tr>\n",
       "  </thead>\n",
       "  <tbody>\n",
       "    <tr>\n",
       "      <th>James</th>\n",
       "      <td>Registrar</td>\n",
       "      <td>Business</td>\n",
       "    </tr>\n",
       "    <tr>\n",
       "      <th>Kelly</th>\n",
       "      <td>Grader</td>\n",
       "      <td>NaN</td>\n",
       "    </tr>\n",
       "    <tr>\n",
       "      <th>Mike</th>\n",
       "      <td>NaN</td>\n",
       "      <td>Law</td>\n",
       "    </tr>\n",
       "    <tr>\n",
       "      <th>Sally</th>\n",
       "      <td>Director of HR</td>\n",
       "      <td>Engineering</td>\n",
       "    </tr>\n",
       "  </tbody>\n",
       "</table>\n",
       "</div>"
      ],
      "text/plain": [
       "                 Role       School\n",
       "Name                              \n",
       "James       Registrar     Business\n",
       "Kelly          Grader          NaN\n",
       "Mike              NaN          Law\n",
       "Sally  Director of HR  Engineering"
      ]
     },
     "execution_count": 4,
     "metadata": {},
     "output_type": "execute_result"
    }
   ],
   "source": [
    "staff = pd.DataFrame([{'Name': 'Sally','Role':'Director of HR'},\n",
    "                      {'Name': 'Kelly','Role':'Grader'},\n",
    "                      {'Name': 'James','Role':'Registrar'}])#Notice 2 different ways to create a DataFrame (students,Staff)\n",
    "staff\n",
    "students = pd.DataFrame({'Name':['James','Sally','Mike'],\n",
    "                        'School':['Business','Engineering','Law'],})\n",
    "students = students.set_index(\"Name\")\n",
    "staff = staff.set_index(\"Name\")\n",
    "print(students)\n",
    "print(staff)\n",
    "\n",
    "pd.merge(staff, students, how = 'outer',left_index = True, right_index = True)\n",
    "#pd.merge(staff, students, how = 'inner',left_index = True, right_index = True) #by default its inner so 'how' unnecessary"
   ]
  },
  {
   "cell_type": "code",
   "execution_count": 15,
   "metadata": {},
   "outputs": [
    {
     "data": {
      "text/html": [
       "<div>\n",
       "<style scoped>\n",
       "    .dataframe tbody tr th:only-of-type {\n",
       "        vertical-align: middle;\n",
       "    }\n",
       "\n",
       "    .dataframe tbody tr th {\n",
       "        vertical-align: top;\n",
       "    }\n",
       "\n",
       "    .dataframe thead th {\n",
       "        text-align: right;\n",
       "    }\n",
       "</style>\n",
       "<table border=\"1\" class=\"dataframe\">\n",
       "  <thead>\n",
       "    <tr style=\"text-align: right;\">\n",
       "      <th></th>\n",
       "      <th>Name</th>\n",
       "      <th>Role</th>\n",
       "      <th>School</th>\n",
       "    </tr>\n",
       "  </thead>\n",
       "  <tbody>\n",
       "    <tr>\n",
       "      <th>0</th>\n",
       "      <td>Sally</td>\n",
       "      <td>Director of HR</td>\n",
       "      <td>Engineering</td>\n",
       "    </tr>\n",
       "    <tr>\n",
       "      <th>1</th>\n",
       "      <td>James</td>\n",
       "      <td>Registrar</td>\n",
       "      <td>Business</td>\n",
       "    </tr>\n",
       "    <tr>\n",
       "      <th>2</th>\n",
       "      <td>Mike</td>\n",
       "      <td>NaN</td>\n",
       "      <td>Law</td>\n",
       "    </tr>\n",
       "  </tbody>\n",
       "</table>\n",
       "</div>"
      ],
      "text/plain": [
       "    Name            Role       School\n",
       "0  Sally  Director of HR  Engineering\n",
       "1  James       Registrar     Business\n",
       "2   Mike             NaN          Law"
      ]
     },
     "execution_count": 15,
     "metadata": {},
     "output_type": "execute_result"
    }
   ],
   "source": [
    "pd.merge(staff, students, how = 'left',left_index = True, right_index = True)#similar to left outerjoin in SQL\n",
    "pd.merge(staff, students, how = 'right',left_index = True, right_index = True)\n",
    "staff = pd.DataFrame([{'Name': 'Sally','Role':'Director of HR'},\n",
    "                      {'Name': 'Kelly','Role':'Grader'},\n",
    "                      {'Name': 'James','Role':'Registrar'}])#Notice 2 different ways to create a DataFrame (students,Staff)\n",
    "staff\n",
    "students = pd.DataFrame({'Name':['James','Sally','Mike'],\n",
    "                        'School':['Business','Engineering','Law']})\n",
    "staff\n",
    "students\n",
    "\n",
    "pd.merge(staff, students, how = 'right', on = 'Name')"
   ]
  },
  {
   "cell_type": "code",
   "execution_count": 17,
   "metadata": {},
   "outputs": [
    {
     "data": {
      "text/html": [
       "<div>\n",
       "<style scoped>\n",
       "    .dataframe tbody tr th:only-of-type {\n",
       "        vertical-align: middle;\n",
       "    }\n",
       "\n",
       "    .dataframe tbody tr th {\n",
       "        vertical-align: top;\n",
       "    }\n",
       "\n",
       "    .dataframe thead th {\n",
       "        text-align: right;\n",
       "    }\n",
       "</style>\n",
       "<table border=\"1\" class=\"dataframe\">\n",
       "  <thead>\n",
       "    <tr style=\"text-align: right;\">\n",
       "      <th></th>\n",
       "      <th>Location_x</th>\n",
       "      <th>Name</th>\n",
       "      <th>Role</th>\n",
       "      <th>School</th>\n",
       "      <th>Location_y</th>\n",
       "    </tr>\n",
       "  </thead>\n",
       "  <tbody>\n",
       "    <tr>\n",
       "      <th>0</th>\n",
       "      <td>Washington Avenue</td>\n",
       "      <td>Sally</td>\n",
       "      <td>Director of HR</td>\n",
       "      <td>Engineering</td>\n",
       "      <td>4 Avenue South</td>\n",
       "    </tr>\n",
       "    <tr>\n",
       "      <th>1</th>\n",
       "      <td>Wilmot Street</td>\n",
       "      <td>James</td>\n",
       "      <td>Registrar</td>\n",
       "      <td>Business</td>\n",
       "      <td>234 Monica Street</td>\n",
       "    </tr>\n",
       "    <tr>\n",
       "      <th>2</th>\n",
       "      <td>NaN</td>\n",
       "      <td>Mike</td>\n",
       "      <td>NaN</td>\n",
       "      <td>Law</td>\n",
       "      <td>1600 Pennsylvania Avenue</td>\n",
       "    </tr>\n",
       "  </tbody>\n",
       "</table>\n",
       "</div>"
      ],
      "text/plain": [
       "          Location_x   Name            Role       School  \\\n",
       "0  Washington Avenue  Sally  Director of HR  Engineering   \n",
       "1      Wilmot Street  James       Registrar     Business   \n",
       "2                NaN   Mike             NaN          Law   \n",
       "\n",
       "                 Location_y  \n",
       "0            4 Avenue South  \n",
       "1         234 Monica Street  \n",
       "2  1600 Pennsylvania Avenue  "
      ]
     },
     "execution_count": 17,
     "metadata": {},
     "output_type": "execute_result"
    }
   ],
   "source": [
    "staff = pd.DataFrame([{'Name': 'Sally','Role':'Director of HR','Location':'Washington Avenue'},\n",
    "                      {'Name': 'Kelly','Role':'Grader','Location':'Jersey Avenue'},\n",
    "                      {'Name': 'James','Role':'Registrar','Location':'Wilmot Street'}])\n",
    "students = pd.DataFrame({'Name':['James','Sally','Mike'],\n",
    "                        'School':['Business','Engineering','Law'],\n",
    "                        'Location':['234 Monica Street', '4 Avenue South', '1600 Pennsylvania Avenue']})\n",
    "pd.merge(staff, students, how = 'right', on = 'Name')#for common fields(Location), Location_x and _y are used for left/right\n"
   ]
  },
  {
   "cell_type": "code",
   "execution_count": 24,
   "metadata": {},
   "outputs": [
    {
     "name": "stdout",
     "output_type": "stream",
     "text": [
      "  First Name Last Name            Role\n",
      "0      Sally     Smith  Director of HR\n",
      "1      Kelly    Smooth          Grader\n",
      "2      James     Wilde       Registrar\n",
      "  First Name Last Name       School\n",
      "0      James      Gunn     Business\n",
      "1      Sally     Smith  Engineering\n",
      "2       Mike    Brooks          Law\n"
     ]
    },
    {
     "data": {
      "text/html": [
       "<div>\n",
       "<style scoped>\n",
       "    .dataframe tbody tr th:only-of-type {\n",
       "        vertical-align: middle;\n",
       "    }\n",
       "\n",
       "    .dataframe tbody tr th {\n",
       "        vertical-align: top;\n",
       "    }\n",
       "\n",
       "    .dataframe thead th {\n",
       "        text-align: right;\n",
       "    }\n",
       "</style>\n",
       "<table border=\"1\" class=\"dataframe\">\n",
       "  <thead>\n",
       "    <tr style=\"text-align: right;\">\n",
       "      <th></th>\n",
       "      <th>First Name</th>\n",
       "      <th>Last Name</th>\n",
       "      <th>Role</th>\n",
       "      <th>School</th>\n",
       "    </tr>\n",
       "  </thead>\n",
       "  <tbody>\n",
       "    <tr>\n",
       "      <th>0</th>\n",
       "      <td>Sally</td>\n",
       "      <td>Smith</td>\n",
       "      <td>Director of HR</td>\n",
       "      <td>Engineering</td>\n",
       "    </tr>\n",
       "  </tbody>\n",
       "</table>\n",
       "</div>"
      ],
      "text/plain": [
       "  First Name Last Name            Role       School\n",
       "0      Sally     Smith  Director of HR  Engineering"
      ]
     },
     "execution_count": 24,
     "metadata": {},
     "output_type": "execute_result"
    }
   ],
   "source": [
    "staff = pd.DataFrame([{'First Name': 'Sally','Last Name': 'Smith','Role':'Director of HR'},\n",
    "                      {'First Name': 'Kelly','Last Name': 'Smooth','Role':'Grader'},\n",
    "                      {'First Name': 'James','Last Name': 'Wilde','Role':'Registrar'}])\n",
    "students = pd.DataFrame({'First Name':['James','Sally','Mike'],\n",
    "                         'Last Name':['Gunn','Smith','Brooks'],\n",
    "                        'School':['Business','Engineering','Law']})\n",
    "print(staff)\n",
    "print(students)\n",
    "pd.merge(staff, students, on = 'First Name') #but the James'es are different,so see below\n",
    "pd.merge(staff, students, on = ['First Name', 'Last Name'])"
   ]
  },
  {
   "cell_type": "code",
   "execution_count": 28,
   "metadata": {},
   "outputs": [
    {
     "name": "stdout",
     "output_type": "stream",
     "text": [
      "3\n"
     ]
    },
    {
     "name": "stderr",
     "output_type": "stream",
     "text": [
      "C:\\Users\\daved\\Anaconda3\\lib\\site-packages\\ipykernel_launcher.py:2: FutureWarning: Sorting because non-concatenation axis is not aligned. A future version\n",
      "of pandas will change to not sort by default.\n",
      "\n",
      "To accept the future behavior, pass 'sort=False'.\n",
      "\n",
      "To retain the current behavior and silence the warning, pass 'sort=True'.\n",
      "\n",
      "  \n",
      "C:\\Users\\daved\\Anaconda3\\lib\\site-packages\\ipykernel_launcher.py:3: FutureWarning: Sorting because non-concatenation axis is not aligned. A future version\n",
      "of pandas will change to not sort by default.\n",
      "\n",
      "To accept the future behavior, pass 'sort=False'.\n",
      "\n",
      "To retain the current behavior and silence the warning, pass 'sort=True'.\n",
      "\n",
      "  This is separate from the ipykernel package so we can avoid doing imports until\n"
     ]
    }
   ],
   "source": [
    "college = (staff,students) #similar to union in SQL but here we have different fields in Role& School hence the pink color\n",
    "pd.concat(college)\n",
    "pd.concat(college, keys = ['staff','students'])\n",
    "print(len(staff))"
   ]
  },
  {
   "cell_type": "code",
   "execution_count": 46,
   "metadata": {},
   "outputs": [
    {
     "data": {
      "text/html": [
       "<div>\n",
       "<style scoped>\n",
       "    .dataframe tbody tr th:only-of-type {\n",
       "        vertical-align: middle;\n",
       "    }\n",
       "\n",
       "    .dataframe tbody tr th {\n",
       "        vertical-align: top;\n",
       "    }\n",
       "\n",
       "    .dataframe thead th {\n",
       "        text-align: right;\n",
       "    }\n",
       "</style>\n",
       "<table border=\"1\" class=\"dataframe\">\n",
       "  <thead>\n",
       "    <tr style=\"text-align: right;\">\n",
       "      <th></th>\n",
       "      <th></th>\n",
       "      <th>First Name</th>\n",
       "      <th>Last Name</th>\n",
       "      <th>School</th>\n",
       "    </tr>\n",
       "  </thead>\n",
       "  <tbody>\n",
       "    <tr>\n",
       "      <th rowspan=\"3\" valign=\"top\">Junior</th>\n",
       "      <th>0</th>\n",
       "      <td>James</td>\n",
       "      <td>Gunn</td>\n",
       "      <td>Business</td>\n",
       "    </tr>\n",
       "    <tr>\n",
       "      <th>1</th>\n",
       "      <td>Sally</td>\n",
       "      <td>Smith</td>\n",
       "      <td>Engineering</td>\n",
       "    </tr>\n",
       "    <tr>\n",
       "      <th>2</th>\n",
       "      <td>Mike</td>\n",
       "      <td>Brooks</td>\n",
       "      <td>Law</td>\n",
       "    </tr>\n",
       "    <tr>\n",
       "      <th rowspan=\"4\" valign=\"top\">Senior</th>\n",
       "      <th>0</th>\n",
       "      <td>John</td>\n",
       "      <td>Gunn</td>\n",
       "      <td>Business</td>\n",
       "    </tr>\n",
       "    <tr>\n",
       "      <th>1</th>\n",
       "      <td>David</td>\n",
       "      <td>Smith</td>\n",
       "      <td>Engineering</td>\n",
       "    </tr>\n",
       "    <tr>\n",
       "      <th>2</th>\n",
       "      <td>Juliet</td>\n",
       "      <td>Brooks</td>\n",
       "      <td>Law</td>\n",
       "    </tr>\n",
       "    <tr>\n",
       "      <th>3</th>\n",
       "      <td>Charles</td>\n",
       "      <td>Dunn</td>\n",
       "      <td>Physics</td>\n",
       "    </tr>\n",
       "  </tbody>\n",
       "</table>\n",
       "</div>"
      ],
      "text/plain": [
       "         First Name Last Name       School\n",
       "Junior 0      James      Gunn     Business\n",
       "       1      Sally     Smith  Engineering\n",
       "       2       Mike    Brooks          Law\n",
       "Senior 0       John      Gunn     Business\n",
       "       1      David     Smith  Engineering\n",
       "       2     Juliet    Brooks          Law\n",
       "       3    Charles      Dunn      Physics"
      ]
     },
     "execution_count": 46,
     "metadata": {},
     "output_type": "execute_result"
    }
   ],
   "source": [
    "students1 = pd.DataFrame({'First Name':['James','Sally','Mike'],\n",
    "                         'Last Name':['Gunn','Smith','Brooks'],\n",
    "                        'School':['Business','Engineering','Law']}) #Junior\n",
    "students2 = pd.DataFrame({'First Name':['John','David','Juliet','Charles'],\n",
    "                         'Last Name':['Gunn','Smith','Brooks','Dunn'],\n",
    "                        'School':['Business','Engineering','Law','Physics']}) #Senior\n",
    "college = (students1,students2)\n",
    "pd.concat(college) #similar to union in SQL\n",
    "pd.concat(college, keys = ['Junior','Senior'])\n",
    "\n",
    "# students1\n",
    "# students1.rename(columns = {'School':'Department'}) #to rename columns"
   ]
  },
  {
   "cell_type": "markdown",
   "metadata": {},
   "source": [
    "#### Python Functions/Idioms"
   ]
  },
  {
   "cell_type": "code",
   "execution_count": 68,
   "metadata": {},
   "outputs": [
    {
     "name": "stdout",
     "output_type": "stream",
     "text": [
      "9.92 ns ± 0.248 ns per loop (mean ± std. dev. of 7 runs, 100000000 loops each)\n"
     ]
    }
   ],
   "source": [
    "%timeit 3+1\n",
    "\n",
    "# n=50\n",
    "# def First(n):\n",
    "#     my_list1=[] \n",
    "#     for i in range(n):\n",
    "#         if i%2 == 0:\n",
    "#             my_list1.append(i)\n",
    "#     return(my_list1)\n",
    "# print(First(50))\n",
    "\n",
    "# def Second(n):\n",
    "#     my_list2 =[number for number in range(n) if number%2==0] #list comprehension technique\n",
    "#     return(my_list2)\n",
    "# print(Second(50))\n",
    "\n",
    "\n",
    "# timeit.timeit(First,number=10)\n",
    "\n"
   ]
  },
  {
   "cell_type": "code",
   "execution_count": 80,
   "metadata": {},
   "outputs": [
    {
     "name": "stdout",
     "output_type": "stream",
     "text": [
      "132 ns ± 3.34 ns per loop (mean ± std. dev. of 7 runs, 10000000 loops each)\n"
     ]
    }
   ],
   "source": [
    "import numpy as np\n",
    "def add2nums(a,b):\n",
    "    return a+b\n",
    "%timeit add2nums(3,1)"
   ]
  },
  {
   "cell_type": "code",
   "execution_count": 73,
   "metadata": {},
   "outputs": [
    {
     "name": "stdout",
     "output_type": "stream",
     "text": [
      "72.2 µs ± 3.04 µs per loop (mean ± std. dev. of 7 runs, 10000 loops each)\n"
     ]
    }
   ],
   "source": [
    "%timeit a = [4 + i for i in range(1000)]\n"
   ]
  },
  {
   "cell_type": "code",
   "execution_count": 77,
   "metadata": {},
   "outputs": [
    {
     "name": "stdout",
     "output_type": "stream",
     "text": [
      "113 µs ± 3.39 µs per loop (mean ± std. dev. of 7 runs, 10000 loops each)\n"
     ]
    }
   ],
   "source": [
    "%%timeit\n",
    "a=[]\n",
    "for i in range(1000):\n",
    "    a.append(4+i)"
   ]
  },
  {
   "cell_type": "code",
   "execution_count": 81,
   "metadata": {},
   "outputs": [
    {
     "name": "stdout",
     "output_type": "stream",
     "text": [
      "3.19 µs ± 128 ns per loop (mean ± std. dev. of 7 runs, 100000 loops each)\n"
     ]
    }
   ],
   "source": [
    "%timeit 4 + np.arange(1000)"
   ]
  },
  {
   "cell_type": "markdown",
   "metadata": {},
   "source": [
    "### ApplyFunction"
   ]
  },
  {
   "cell_type": "code",
   "execution_count": 93,
   "metadata": {},
   "outputs": [
    {
     "name": "stdout",
     "output_type": "stream",
     "text": [
      "    a   b   c\n",
      "0   5   6  20\n",
      "1   5  82  28\n",
      "2  71  31  92\n",
      "3  67  37  49\n"
     ]
    },
    {
     "data": {
      "text/html": [
       "<div>\n",
       "<style scoped>\n",
       "    .dataframe tbody tr th:only-of-type {\n",
       "        vertical-align: middle;\n",
       "    }\n",
       "\n",
       "    .dataframe tbody tr th {\n",
       "        vertical-align: top;\n",
       "    }\n",
       "\n",
       "    .dataframe thead th {\n",
       "        text-align: right;\n",
       "    }\n",
       "</style>\n",
       "<table border=\"1\" class=\"dataframe\">\n",
       "  <thead>\n",
       "    <tr style=\"text-align: right;\">\n",
       "      <th></th>\n",
       "      <th>min</th>\n",
       "      <th>max</th>\n",
       "    </tr>\n",
       "  </thead>\n",
       "  <tbody>\n",
       "    <tr>\n",
       "      <th>0</th>\n",
       "      <td>5</td>\n",
       "      <td>20</td>\n",
       "    </tr>\n",
       "    <tr>\n",
       "      <th>1</th>\n",
       "      <td>5</td>\n",
       "      <td>82</td>\n",
       "    </tr>\n",
       "    <tr>\n",
       "      <th>2</th>\n",
       "      <td>31</td>\n",
       "      <td>92</td>\n",
       "    </tr>\n",
       "    <tr>\n",
       "      <th>3</th>\n",
       "      <td>37</td>\n",
       "      <td>67</td>\n",
       "    </tr>\n",
       "  </tbody>\n",
       "</table>\n",
       "</div>"
      ],
      "text/plain": [
       "   min  max\n",
       "0    5   20\n",
       "1    5   82\n",
       "2   31   92\n",
       "3   37   67"
      ]
     },
     "execution_count": 93,
     "metadata": {},
     "output_type": "execute_result"
    }
   ],
   "source": [
    "df = pd.DataFrame({'a':[5,5,71,67],'b':[6,82,31,37],'c':[20,28,92,49]})\n",
    "print(df)\n",
    "def min_max(row):\n",
    "    data = row[['a','b','c']]\n",
    "    return pd.Series({'min':np.min(data),'max':np.max(data)})\n",
    "df.apply(min_max,axis = 'columns') #Horizontal axis\n",
    "#df.apply(min_max,axis = 0) #not working for some reasons\n"
   ]
  },
  {
   "cell_type": "code",
   "execution_count": 95,
   "metadata": {},
   "outputs": [
    {
     "name": "stdout",
     "output_type": "stream",
     "text": [
      "    a   b   c\n",
      "0   5   6  20\n",
      "1   5  82  28\n",
      "2  71  31  92\n",
      "3  67  37  49\n"
     ]
    },
    {
     "data": {
      "text/html": [
       "<div>\n",
       "<style scoped>\n",
       "    .dataframe tbody tr th:only-of-type {\n",
       "        vertical-align: middle;\n",
       "    }\n",
       "\n",
       "    .dataframe tbody tr th {\n",
       "        vertical-align: top;\n",
       "    }\n",
       "\n",
       "    .dataframe thead th {\n",
       "        text-align: right;\n",
       "    }\n",
       "</style>\n",
       "<table border=\"1\" class=\"dataframe\">\n",
       "  <thead>\n",
       "    <tr style=\"text-align: right;\">\n",
       "      <th></th>\n",
       "      <th>a</th>\n",
       "      <th>b</th>\n",
       "      <th>c</th>\n",
       "      <th>min</th>\n",
       "      <th>max</th>\n",
       "    </tr>\n",
       "  </thead>\n",
       "  <tbody>\n",
       "    <tr>\n",
       "      <th>0</th>\n",
       "      <td>5</td>\n",
       "      <td>6</td>\n",
       "      <td>20</td>\n",
       "      <td>5</td>\n",
       "      <td>20</td>\n",
       "    </tr>\n",
       "    <tr>\n",
       "      <th>1</th>\n",
       "      <td>5</td>\n",
       "      <td>82</td>\n",
       "      <td>28</td>\n",
       "      <td>5</td>\n",
       "      <td>82</td>\n",
       "    </tr>\n",
       "    <tr>\n",
       "      <th>2</th>\n",
       "      <td>71</td>\n",
       "      <td>31</td>\n",
       "      <td>92</td>\n",
       "      <td>31</td>\n",
       "      <td>92</td>\n",
       "    </tr>\n",
       "    <tr>\n",
       "      <th>3</th>\n",
       "      <td>67</td>\n",
       "      <td>37</td>\n",
       "      <td>49</td>\n",
       "      <td>37</td>\n",
       "      <td>67</td>\n",
       "    </tr>\n",
       "  </tbody>\n",
       "</table>\n",
       "</div>"
      ],
      "text/plain": [
       "    a   b   c  min  max\n",
       "0   5   6  20    5   20\n",
       "1   5  82  28    5   82\n",
       "2  71  31  92   31   92\n",
       "3  67  37  49   37   67"
      ]
     },
     "execution_count": 95,
     "metadata": {},
     "output_type": "execute_result"
    }
   ],
   "source": [
    "df = pd.DataFrame({'a':[5,5,71,67],'b':[6,82,31,37],'c':[20,28,92,49]})\n",
    "print(df)\n",
    "def min_max(row):\n",
    "    data = row[['a','b','c']]\n",
    "    row['min'] =np.min(data)\n",
    "    row['max'] =np.max(data)\n",
    "    return row\n",
    "df.apply(min_max,axis = 1) #Horizontal axis"
   ]
  },
  {
   "cell_type": "code",
   "execution_count": 99,
   "metadata": {},
   "outputs": [
    {
     "data": {
      "text/plain": [
       "0     5\n",
       "1     5\n",
       "2    31\n",
       "3    37\n",
       "dtype: int64"
      ]
     },
     "execution_count": 99,
     "metadata": {},
     "output_type": "execute_result"
    }
   ],
   "source": [
    "row = ['a','b','c']\n",
    "df.apply(lambda x: np.min(x[row]),axis = 'columns')"
   ]
  },
  {
   "cell_type": "markdown",
   "metadata": {},
   "source": [
    "### Timestamp"
   ]
  },
  {
   "cell_type": "code",
   "execution_count": 6,
   "metadata": {},
   "outputs": [
    {
     "name": "stdout",
     "output_type": "stream",
     "text": [
      "<class 'pandas._libs.tslibs.period.Period'>\n"
     ]
    },
    {
     "data": {
      "text/plain": [
       "Period('2016-03-09', 'D')"
      ]
     },
     "execution_count": 6,
     "metadata": {},
     "output_type": "execute_result"
    }
   ],
   "source": [
    "pd.Timestamp('9/1/2018 10:09PM') #default is month first\n",
    "pd.Timestamp(2019,2,7,6,8,9)\n",
    "pd.Timestamp(2021,3,2,22,10).isoweekday() # Monday = 1 and Sunday = 7\n",
    "pd.Timestamp(2021,3,2,22,10).minute # to extract either year,month,day,hour,minute,second\n",
    "pd.Period('3/15/2016')\n",
    "pd.Period('3/2016')\n",
    "print(type(pd.Period('3/2016')))\n",
    "pd.Period('3/2016')+5\n",
    "pd.Period('3/15/2016')-6"
   ]
  },
  {
   "cell_type": "code",
   "execution_count": 114,
   "metadata": {},
   "outputs": [
    {
     "data": {
      "text/plain": [
       "2017-03-16    a\n",
       "2017-03-17    b\n",
       "2017-03-19    c\n",
       "dtype: object"
      ]
     },
     "execution_count": 114,
     "metadata": {},
     "output_type": "execute_result"
    }
   ],
   "source": [
    "t1 = pd.Series(list('abc'),[pd.Timestamp('3/16/2017'),pd.Timestamp('3/17/2017'),pd.Timestamp('3/19/2017')])\n",
    "t1"
   ]
  },
  {
   "cell_type": "code",
   "execution_count": 38,
   "metadata": {},
   "outputs": [
    {
     "name": "stdout",
     "output_type": "stream",
     "text": [
      "               a   b\n",
      "2 June 2013   31  16\n",
      "2016-6-15     34  24\n",
      "7/12/16       68  38\n",
      "Aug 27, 2014  21  66\n"
     ]
    },
    {
     "data": {
      "text/plain": [
       "Timestamp('2023-07-04 00:00:00')"
      ]
     },
     "execution_count": 38,
     "metadata": {},
     "output_type": "execute_result"
    }
   ],
   "source": [
    "import pandas as pd\n",
    "import numpy as np\n",
    "d = ['2 June 2013','2016-6-15','7/12/16', 'Aug 27, 2014']\n",
    "# d = pd.to_datetime(d)\n",
    "# print(d)\n",
    "# print(type(d))\n",
    "\n",
    "t2 = pd.DataFrame(np.random.randint(10,100,(4,2)),index = d,columns = list('ab'))\n",
    "print(t2)\n",
    "t2.index = pd.to_datetime(t2.index)\n",
    "type(t2.index)\n",
    "t2\n",
    "\n",
    "# t3 = pd.to_datetime('4.7.23', dayfirst = True)\n",
    "# t3"
   ]
  },
  {
   "cell_type": "markdown",
   "metadata": {},
   "source": [
    "### Time Deltas"
   ]
  },
  {
   "cell_type": "code",
   "execution_count": 49,
   "metadata": {},
   "outputs": [
    {
     "data": {
      "text/plain": [
       "Timestamp('2019-09-06 23:00:00')"
      ]
     },
     "execution_count": 49,
     "metadata": {},
     "output_type": "execute_result"
    }
   ],
   "source": [
    "pd.Timestamp('9/3/2019') - pd.Timestamp('9/1/2019')\n",
    "pd.Timestamp('9/3/2019 8PM') + pd.Timedelta('3D 3H')\n"
   ]
  },
  {
   "cell_type": "markdown",
   "metadata": {},
   "source": [
    "### Time Offset"
   ]
  },
  {
   "cell_type": "code",
   "execution_count": 72,
   "metadata": {},
   "outputs": [
    {
     "data": {
      "text/plain": [
       "Timestamp('2021-04-30 00:00:00')"
      ]
     },
     "execution_count": 72,
     "metadata": {},
     "output_type": "execute_result"
    }
   ],
   "source": [
    "pd.Timestamp('3/4/2021').isoweekday() #always use iso,although weekday will work too\n",
    "pd.Timestamp('3/4/2021') + pd.offsets.Week() #default is one week\n",
    "pd.Timestamp('3/4/2021') + pd.offsets.Week(3) #3 weeks after\n",
    "pd.Timestamp('4/4/2021') + pd.offsets.MonthEnd() #month end"
   ]
  },
  {
   "cell_type": "markdown",
   "metadata": {},
   "source": [
    "### Dates in DataFrame"
   ]
  },
  {
   "cell_type": "code",
   "execution_count": 92,
   "metadata": {},
   "outputs": [
    {
     "data": {
      "text/plain": [
       "DatetimeIndex(['2021-06-01', '2021-09-01', '2021-12-01', '2022-03-01',\n",
       "               '2022-06-01', '2022-09-01', '2022-12-01', '2023-03-01',\n",
       "               '2023-06-01', '2023-09-01', '2023-12-01', '2024-03-01'],\n",
       "              dtype='datetime64[ns]', freq='QS-JUN')"
      ]
     },
     "execution_count": 92,
     "metadata": {},
     "output_type": "execute_result"
    }
   ],
   "source": [
    "dates = pd.date_range('10-1-16', periods = 9, freq = '2W-SUN') #'2W-SUN' means biweekly every sunday\n",
    "dates = pd.date_range('3-4-21', periods = 9, freq = 'B') #for business days\n",
    "dates = pd.date_range('5-4-21', periods = 12, freq = 'Q') #this uses next quarter MonthEnd dates\n",
    "dates = pd.date_range('3-4-21', periods = 12, freq = 'QS') #this uses next quarter MonthStart dates\n",
    "dates = pd.date_range('3-4-21', periods = 12, freq = 'QS-JUN') #'QS-JUN' ensure Quarter Starts at JUN\n",
    "dates\n"
   ]
  },
  {
   "cell_type": "code",
   "execution_count": 113,
   "metadata": {},
   "outputs": [
    {
     "name": "stdout",
     "output_type": "stream",
     "text": [
      "            Count 1  Count 2\n",
      "2016-10-02      109      120\n",
      "2016-10-16      106      126\n",
      "2016-10-30      101      118\n",
      "2016-11-13      105      124\n",
      "2016-11-27      105      122\n",
      "2016-12-11      109      124\n",
      "2016-12-25      108      115\n",
      "2017-01-08       96      126\n",
      "2017-01-22      107      117\n"
     ]
    },
    {
     "data": {
      "text/html": [
       "<div>\n",
       "<style scoped>\n",
       "    .dataframe tbody tr th:only-of-type {\n",
       "        vertical-align: middle;\n",
       "    }\n",
       "\n",
       "    .dataframe tbody tr th {\n",
       "        vertical-align: top;\n",
       "    }\n",
       "\n",
       "    .dataframe thead th {\n",
       "        text-align: right;\n",
       "    }\n",
       "</style>\n",
       "<table border=\"1\" class=\"dataframe\">\n",
       "  <thead>\n",
       "    <tr style=\"text-align: right;\">\n",
       "      <th></th>\n",
       "      <th>Count 1</th>\n",
       "      <th>Count 2</th>\n",
       "    </tr>\n",
       "  </thead>\n",
       "  <tbody>\n",
       "    <tr>\n",
       "      <th>2016-12-11</th>\n",
       "      <td>109</td>\n",
       "      <td>124</td>\n",
       "    </tr>\n",
       "    <tr>\n",
       "      <th>2016-12-25</th>\n",
       "      <td>108</td>\n",
       "      <td>115</td>\n",
       "    </tr>\n",
       "    <tr>\n",
       "      <th>2017-01-08</th>\n",
       "      <td>96</td>\n",
       "      <td>126</td>\n",
       "    </tr>\n",
       "    <tr>\n",
       "      <th>2017-01-22</th>\n",
       "      <td>107</td>\n",
       "      <td>117</td>\n",
       "    </tr>\n",
       "  </tbody>\n",
       "</table>\n",
       "</div>"
      ],
      "text/plain": [
       "            Count 1  Count 2\n",
       "2016-12-11      109      124\n",
       "2016-12-25      108      115\n",
       "2017-01-08       96      126\n",
       "2017-01-22      107      117"
      ]
     },
     "execution_count": 113,
     "metadata": {},
     "output_type": "execute_result"
    }
   ],
   "source": [
    "dates = pd.date_range('10-1-16', periods = 9, freq = '2W-SUN')\n",
    "df = pd.DataFrame({'Count 1':100 + np.random.randint(-5,10,9),'Count 2':120 + np.random.randint(-5,10,9)},index =  dates)\n",
    "df.index.weekday_name\n",
    "print(df)\n",
    "df.diff()\n",
    "df.resample('M').sum() # to resample an oparation to be done monthly\n",
    "df['2016-11']\n",
    "df['2017']\n",
    "df['2016-12':]"
   ]
  },
  {
   "cell_type": "code",
   "execution_count": 124,
   "metadata": {},
   "outputs": [
    {
     "data": {
      "text/plain": [
       "RangeIndex(start=0, stop=100, step=1)"
      ]
     },
     "execution_count": 124,
     "metadata": {},
     "output_type": "execute_result"
    }
   ],
   "source": [
    "df1 =pd.DataFrame([np.random.random(100) for x in range(10)])\n",
    "df1.columns"
   ]
  }
 ],
 "metadata": {
  "kernelspec": {
   "display_name": "Python 3",
   "language": "python",
   "name": "python3"
  },
  "language_info": {
   "codemirror_mode": {
    "name": "ipython",
    "version": 3
   },
   "file_extension": ".py",
   "mimetype": "text/x-python",
   "name": "python",
   "nbconvert_exporter": "python",
   "pygments_lexer": "ipython3",
   "version": "3.7.1"
  }
 },
 "nbformat": 4,
 "nbformat_minor": 2
}
